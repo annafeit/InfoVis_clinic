{
 "cells": [
  {
   "cell_type": "markdown",
   "metadata": {
    "slideshow": {
     "slide_type": "notes"
    }
   },
   "source": [
    "Export as slideshow with:\n",
    "\n",
    "    ipython nbconvert InfoVis_clinic_python.ipynb --to slides --post serve"
   ]
  },
  {
   "cell_type": "markdown",
   "metadata": {
    "slideshow": {
     "slide_type": "slide"
    }
   },
   "source": [
    "### Hands-on Session.\n",
    "\n",
    "# Quick and Pretty:  Publication Quality Plots with Python \n",
    "\n",
    "\n",
    "\n",
    "\n",
    "### An Introduction to Matplotlib with some references to Seaborn and Pandas\n",
    "\n",
    "\n",
    "\n",
    "\n"
   ]
  },
  {
   "cell_type": "markdown",
   "metadata": {
    "slideshow": {
     "slide_type": "slide"
    }
   },
   "source": [
    "# Content\n",
    "\n",
    "\n",
    "## Importing Data with Pandas\n",
    "\n",
    "## Plotting with Matplotlib: \n",
    "\n",
    "### <li> Bar Plot and Histogram\n",
    "\n",
    "### <li> Line Plot\n",
    "\n",
    "### <li> Scatter Plot\n",
    "\n",
    "### <li> Export for Publications\n",
    "\n",
    "## Quick and pretty plots with Seaborn"
   ]
  },
  {
   "cell_type": "markdown",
   "metadata": {
    "slideshow": {
     "slide_type": "slide"
    }
   },
   "source": [
    "# Importing Data with Pandas\n",
    "\n",
    "### <a href=\"http://pandas.pydata.org/\">Pandas</a>: data structures and data analysis tools for python\n",
    "\n",
    "<li> Data structures: Series and DataFrame similar to R\n",
    "<li> Integrated for use with matplotlib, numpy, scipy, etc.\n",
    "<li> Easy-to-use csv import\n",
    "<li> Quickly filter, sort, aggregate, etc.\n",
    "\n",
    "&#10140; <a href=\"http://pandas.pydata.org/pandas-docs/stable/10min.html\"> 10 minutes to pandas </a>"
   ]
  },
  {
   "cell_type": "code",
   "execution_count": 1,
   "metadata": {
    "collapsed": true,
    "slideshow": {
     "slide_type": "fragment"
    }
   },
   "outputs": [],
   "source": [
    "import pandas as pd"
   ]
  },
  {
   "cell_type": "markdown",
   "metadata": {
    "slideshow": {
     "slide_type": "slide"
    }
   },
   "source": [
    "## Import your CSV Data\n",
    "\n",
    "<a href=\"http://pandas.pydata.org/pandas-docs/stable/generated/pandas.read_csv.html\"> pandas.read_csv()</a>: reads a csv file into a DataFrame object\n",
    "\n",
    "Arguments: \n",
    "<li type=none>&#10140; separator: <br>\n",
    "<code> sep = \";\" </code> default \",\"\n",
    "<li type=none>&#10140;  Others: <br>\n",
    "    <code> index_col = 0 </code>  -  column used as index / row names <br>\n",
    "    <code> header : int, list of ints </code> -  specifies the line used as header / column names. Pass header=0 if there is none.<br>\n",
    "    <code> skiprows : list-like or integer  </code> - number of lines to skip in beginning of file<br>\n",
    "    <code> names : array-like </code> - names to be used for columns <br>\n",
    "    <code> na_values : str, list-like or dict </code> - Additional strings recognized as NaN\n",
    "    "
   ]
  },
  {
   "cell_type": "code",
   "execution_count": 2,
   "metadata": {
    "collapsed": false,
    "slideshow": {
     "slide_type": "subslide"
    }
   },
   "outputs": [
    {
     "data": {
      "text/html": [
       "<div>\n",
       "<table border=\"1\" class=\"dataframe\">\n",
       "  <thead>\n",
       "    <tr style=\"text-align: right;\">\n",
       "      <th></th>\n",
       "      <th>UserId</th>\n",
       "      <th>Female</th>\n",
       "      <th>Age</th>\n",
       "      <th>Touch</th>\n",
       "      <th>Touch_experience</th>\n",
       "      <th>Language typed</th>\n",
       "      <th>computer_usage_week</th>\n",
       "      <th>years_computer_experience</th>\n",
       "      <th>avgIKI</th>\n",
       "      <th>stdIKI</th>\n",
       "      <th>...</th>\n",
       "      <th>all_fingers</th>\n",
       "      <th>fingers_letters</th>\n",
       "      <th>fingers_left</th>\n",
       "      <th>fingers_right</th>\n",
       "      <th>keys_per_finger</th>\n",
       "      <th>keys_left</th>\n",
       "      <th>keys_right</th>\n",
       "      <th>keys_both</th>\n",
       "      <th>gaze_shift</th>\n",
       "      <th>visual_attention</th>\n",
       "    </tr>\n",
       "  </thead>\n",
       "  <tbody>\n",
       "    <tr>\n",
       "      <th>0</th>\n",
       "      <td>5307</td>\n",
       "      <td>0</td>\n",
       "      <td>30</td>\n",
       "      <td>1</td>\n",
       "      <td>10</td>\n",
       "      <td>Fi</td>\n",
       "      <td>70</td>\n",
       "      <td>15</td>\n",
       "      <td>127.950789</td>\n",
       "      <td>58.449817</td>\n",
       "      <td>...</td>\n",
       "      <td>9</td>\n",
       "      <td>9</td>\n",
       "      <td>5</td>\n",
       "      <td>4</td>\n",
       "      <td>3.777778</td>\n",
       "      <td>8</td>\n",
       "      <td>11</td>\n",
       "      <td>0</td>\n",
       "      <td>0.6</td>\n",
       "      <td>0.161288</td>\n",
       "    </tr>\n",
       "    <tr>\n",
       "      <th>1</th>\n",
       "      <td>68349</td>\n",
       "      <td>1</td>\n",
       "      <td>24</td>\n",
       "      <td>0</td>\n",
       "      <td>0</td>\n",
       "      <td>Fi</td>\n",
       "      <td>35</td>\n",
       "      <td>17</td>\n",
       "      <td>185.838576</td>\n",
       "      <td>82.814989</td>\n",
       "      <td>...</td>\n",
       "      <td>9</td>\n",
       "      <td>8</td>\n",
       "      <td>4</td>\n",
       "      <td>4</td>\n",
       "      <td>5.000000</td>\n",
       "      <td>11</td>\n",
       "      <td>16</td>\n",
       "      <td>8</td>\n",
       "      <td>1.8</td>\n",
       "      <td>0.158745</td>\n",
       "    </tr>\n",
       "    <tr>\n",
       "      <th>2</th>\n",
       "      <td>96115</td>\n",
       "      <td>1</td>\n",
       "      <td>23</td>\n",
       "      <td>0</td>\n",
       "      <td>0</td>\n",
       "      <td>Fi</td>\n",
       "      <td>21</td>\n",
       "      <td>18</td>\n",
       "      <td>169.188137</td>\n",
       "      <td>82.820847</td>\n",
       "      <td>...</td>\n",
       "      <td>7</td>\n",
       "      <td>5</td>\n",
       "      <td>2</td>\n",
       "      <td>3</td>\n",
       "      <td>6.800000</td>\n",
       "      <td>13</td>\n",
       "      <td>15</td>\n",
       "      <td>9</td>\n",
       "      <td>1.8</td>\n",
       "      <td>0.608997</td>\n",
       "    </tr>\n",
       "    <tr>\n",
       "      <th>3</th>\n",
       "      <td>106194</td>\n",
       "      <td>0</td>\n",
       "      <td>35</td>\n",
       "      <td>0</td>\n",
       "      <td>0</td>\n",
       "      <td>En</td>\n",
       "      <td>70</td>\n",
       "      <td>16</td>\n",
       "      <td>174.561116</td>\n",
       "      <td>92.610820</td>\n",
       "      <td>...</td>\n",
       "      <td>8</td>\n",
       "      <td>6</td>\n",
       "      <td>3</td>\n",
       "      <td>3</td>\n",
       "      <td>5.166667</td>\n",
       "      <td>11</td>\n",
       "      <td>13</td>\n",
       "      <td>5</td>\n",
       "      <td>2.2</td>\n",
       "      <td>0.621687</td>\n",
       "    </tr>\n",
       "    <tr>\n",
       "      <th>4</th>\n",
       "      <td>120778</td>\n",
       "      <td>1</td>\n",
       "      <td>25</td>\n",
       "      <td>0</td>\n",
       "      <td>0</td>\n",
       "      <td>Fi</td>\n",
       "      <td>49</td>\n",
       "      <td>17</td>\n",
       "      <td>139.825790</td>\n",
       "      <td>64.642157</td>\n",
       "      <td>...</td>\n",
       "      <td>9</td>\n",
       "      <td>6</td>\n",
       "      <td>4</td>\n",
       "      <td>2</td>\n",
       "      <td>5.166667</td>\n",
       "      <td>13</td>\n",
       "      <td>10</td>\n",
       "      <td>4</td>\n",
       "      <td>1.4</td>\n",
       "      <td>0.554533</td>\n",
       "    </tr>\n",
       "  </tbody>\n",
       "</table>\n",
       "<p>5 rows × 22 columns</p>\n",
       "</div>"
      ],
      "text/plain": [
       "   UserId  Female  Age  Touch  Touch_experience Language typed  \\\n",
       "0    5307       0   30      1                10             Fi   \n",
       "1   68349       1   24      0                 0             Fi   \n",
       "2   96115       1   23      0                 0             Fi   \n",
       "3  106194       0   35      0                 0             En   \n",
       "4  120778       1   25      0                 0             Fi   \n",
       "\n",
       "   computer_usage_week  years_computer_experience      avgIKI     stdIKI  \\\n",
       "0                   70                         15  127.950789  58.449817   \n",
       "1                   35                         17  185.838576  82.814989   \n",
       "2                   21                         18  169.188137  82.820847   \n",
       "3                   70                         16  174.561116  92.610820   \n",
       "4                   49                         17  139.825790  64.642157   \n",
       "\n",
       "         ...         all_fingers  fingers_letters  fingers_left  \\\n",
       "0        ...                   9                9             5   \n",
       "1        ...                   9                8             4   \n",
       "2        ...                   7                5             2   \n",
       "3        ...                   8                6             3   \n",
       "4        ...                   9                6             4   \n",
       "\n",
       "   fingers_right  keys_per_finger  keys_left  keys_right  keys_both  \\\n",
       "0              4         3.777778          8          11          0   \n",
       "1              4         5.000000         11          16          8   \n",
       "2              3         6.800000         13          15          9   \n",
       "3              3         5.166667         11          13          5   \n",
       "4              2         5.166667         13          10          4   \n",
       "\n",
       "   gaze_shift  visual_attention  \n",
       "0         0.6          0.161288  \n",
       "1         1.8          0.158745  \n",
       "2         1.8          0.608997  \n",
       "3         2.2          0.621687  \n",
       "4         1.4          0.554533  \n",
       "\n",
       "[5 rows x 22 columns]"
      ]
     },
     "execution_count": 2,
     "metadata": {},
     "output_type": "execute_result"
    }
   ],
   "source": [
    "data = pd.read_csv(\"typing_all.csv\", sep=\";\")\n",
    "\n",
    "data.head() #displays only the 5 first lines"
   ]
  },
  {
   "cell_type": "markdown",
   "metadata": {
    "slideshow": {
     "slide_type": "slide"
    }
   },
   "source": [
    "## Access and filter your Data\n",
    "\n",
    "#### 1. Select a column"
   ]
  },
  {
   "cell_type": "code",
   "execution_count": 3,
   "metadata": {
    "collapsed": false,
    "slideshow": {
     "slide_type": "fragment"
    }
   },
   "outputs": [
    {
     "data": {
      "text/html": [
       "<div>\n",
       "<table border=\"1\" class=\"dataframe\">\n",
       "  <thead>\n",
       "    <tr style=\"text-align: right;\">\n",
       "      <th></th>\n",
       "      <th>UserId</th>\n",
       "      <th>wpm</th>\n",
       "    </tr>\n",
       "  </thead>\n",
       "  <tbody>\n",
       "    <tr>\n",
       "      <th>0</th>\n",
       "      <td>5307</td>\n",
       "      <td>79.30</td>\n",
       "    </tr>\n",
       "    <tr>\n",
       "      <th>1</th>\n",
       "      <td>68349</td>\n",
       "      <td>49.91</td>\n",
       "    </tr>\n",
       "    <tr>\n",
       "      <th>2</th>\n",
       "      <td>96115</td>\n",
       "      <td>60.53</td>\n",
       "    </tr>\n",
       "    <tr>\n",
       "      <th>3</th>\n",
       "      <td>106194</td>\n",
       "      <td>56.02</td>\n",
       "    </tr>\n",
       "    <tr>\n",
       "      <th>4</th>\n",
       "      <td>120778</td>\n",
       "      <td>65.27</td>\n",
       "    </tr>\n",
       "  </tbody>\n",
       "</table>\n",
       "</div>"
      ],
      "text/plain": [
       "   UserId    wpm\n",
       "0    5307  79.30\n",
       "1   68349  49.91\n",
       "2   96115  60.53\n",
       "3  106194  56.02\n",
       "4  120778  65.27"
      ]
     },
     "execution_count": 3,
     "metadata": {},
     "output_type": "execute_result"
    }
   ],
   "source": [
    "selection = data.wpm #or\n",
    "selection = data[\"wpm\"] #returns a Series object, while\n",
    "selection = data[[\"UserId\", \"wpm\"]] #returns a DataFrame object\n",
    "selection.head()"
   ]
  },
  {
   "cell_type": "markdown",
   "metadata": {
    "slideshow": {
     "slide_type": "fragment"
    }
   },
   "source": [
    "#### 2. Select the first row\n"
   ]
  },
  {
   "cell_type": "code",
   "execution_count": 4,
   "metadata": {
    "collapsed": false,
    "slideshow": {
     "slide_type": "fragment"
    }
   },
   "outputs": [
    {
     "data": {
      "text/html": [
       "<div>\n",
       "<table border=\"1\" class=\"dataframe\">\n",
       "  <thead>\n",
       "    <tr style=\"text-align: right;\">\n",
       "      <th></th>\n",
       "      <th>UserId</th>\n",
       "      <th>Female</th>\n",
       "      <th>Age</th>\n",
       "      <th>Touch</th>\n",
       "      <th>Touch_experience</th>\n",
       "      <th>Language typed</th>\n",
       "      <th>computer_usage_week</th>\n",
       "      <th>years_computer_experience</th>\n",
       "      <th>avgIKI</th>\n",
       "      <th>stdIKI</th>\n",
       "      <th>...</th>\n",
       "      <th>all_fingers</th>\n",
       "      <th>fingers_letters</th>\n",
       "      <th>fingers_left</th>\n",
       "      <th>fingers_right</th>\n",
       "      <th>keys_per_finger</th>\n",
       "      <th>keys_left</th>\n",
       "      <th>keys_right</th>\n",
       "      <th>keys_both</th>\n",
       "      <th>gaze_shift</th>\n",
       "      <th>visual_attention</th>\n",
       "    </tr>\n",
       "  </thead>\n",
       "  <tbody>\n",
       "    <tr>\n",
       "      <th>0</th>\n",
       "      <td>5307</td>\n",
       "      <td>0</td>\n",
       "      <td>30</td>\n",
       "      <td>1</td>\n",
       "      <td>10</td>\n",
       "      <td>Fi</td>\n",
       "      <td>70</td>\n",
       "      <td>15</td>\n",
       "      <td>127.950789</td>\n",
       "      <td>58.449817</td>\n",
       "      <td>...</td>\n",
       "      <td>9</td>\n",
       "      <td>9</td>\n",
       "      <td>5</td>\n",
       "      <td>4</td>\n",
       "      <td>3.777778</td>\n",
       "      <td>8</td>\n",
       "      <td>11</td>\n",
       "      <td>0</td>\n",
       "      <td>0.6</td>\n",
       "      <td>0.161288</td>\n",
       "    </tr>\n",
       "  </tbody>\n",
       "</table>\n",
       "<p>1 rows × 22 columns</p>\n",
       "</div>"
      ],
      "text/plain": [
       "   UserId  Female  Age  Touch  Touch_experience Language typed  \\\n",
       "0    5307       0   30      1                10             Fi   \n",
       "\n",
       "   computer_usage_week  years_computer_experience      avgIKI     stdIKI  \\\n",
       "0                   70                         15  127.950789  58.449817   \n",
       "\n",
       "         ...         all_fingers  fingers_letters  fingers_left  \\\n",
       "0        ...                   9                9             5   \n",
       "\n",
       "   fingers_right  keys_per_finger  keys_left  keys_right  keys_both  \\\n",
       "0              4         3.777778          8          11          0   \n",
       "\n",
       "   gaze_shift  visual_attention  \n",
       "0         0.6          0.161288  \n",
       "\n",
       "[1 rows x 22 columns]"
      ]
     },
     "execution_count": 4,
     "metadata": {},
     "output_type": "execute_result"
    }
   ],
   "source": [
    "data[0:1] # returns a DataFrame"
   ]
  },
  {
   "cell_type": "markdown",
   "metadata": {
    "slideshow": {
     "slide_type": "fragment"
    }
   },
   "source": [
    "#### 3. Select a specific cell"
   ]
  },
  {
   "cell_type": "code",
   "execution_count": 5,
   "metadata": {
    "collapsed": false,
    "slideshow": {
     "slide_type": "fragment"
    }
   },
   "outputs": [
    {
     "data": {
      "text/plain": [
       "127.9507892"
      ]
     },
     "execution_count": 5,
     "metadata": {},
     "output_type": "execute_result"
    }
   ],
   "source": [
    "data.loc[0,\"wpm\"] #by label or\n",
    "data.iloc[0,8] #by position"
   ]
  },
  {
   "cell_type": "markdown",
   "metadata": {
    "slideshow": {
     "slide_type": "fragment"
    }
   },
   "source": [
    "#### 4. Filter by boolean criteria\n",
    "Show touch typists that were faster than 60 wpm."
   ]
  },
  {
   "cell_type": "code",
   "execution_count": 6,
   "metadata": {
    "collapsed": false
   },
   "outputs": [
    {
     "data": {
      "text/html": [
       "<div>\n",
       "<table border=\"1\" class=\"dataframe\">\n",
       "  <thead>\n",
       "    <tr style=\"text-align: right;\">\n",
       "      <th></th>\n",
       "      <th>UserId</th>\n",
       "      <th>wpm</th>\n",
       "    </tr>\n",
       "  </thead>\n",
       "  <tbody>\n",
       "    <tr>\n",
       "      <th>0</th>\n",
       "      <td>5307</td>\n",
       "      <td>79.30</td>\n",
       "    </tr>\n",
       "    <tr>\n",
       "      <th>6</th>\n",
       "      <td>216367</td>\n",
       "      <td>66.01</td>\n",
       "    </tr>\n",
       "    <tr>\n",
       "      <th>7</th>\n",
       "      <td>221357</td>\n",
       "      <td>78.74</td>\n",
       "    </tr>\n",
       "    <tr>\n",
       "      <th>19</th>\n",
       "      <td>431334</td>\n",
       "      <td>64.42</td>\n",
       "    </tr>\n",
       "    <tr>\n",
       "      <th>20</th>\n",
       "      <td>438454</td>\n",
       "      <td>73.36</td>\n",
       "    </tr>\n",
       "  </tbody>\n",
       "</table>\n",
       "</div>"
      ],
      "text/plain": [
       "    UserId    wpm\n",
       "0     5307  79.30\n",
       "6   216367  66.01\n",
       "7   221357  78.74\n",
       "19  431334  64.42\n",
       "20  438454  73.36"
      ]
     },
     "execution_count": 6,
     "metadata": {},
     "output_type": "execute_result"
    }
   ],
   "source": [
    "fast_tt = data[(data.Touch == 1) & (data.wpm > 60)][[\"UserId\", \"wpm\"]]\n",
    "fast_tt.head()"
   ]
  },
  {
   "cell_type": "markdown",
   "metadata": {
    "slideshow": {
     "slide_type": "slide"
    }
   },
   "source": [
    "# Plotting Data with Matplotlib\n",
    "\n",
    "<a href=\"http://matplotlib.org/\"> Matplotlib</a>: A powerful plotting library for Matlab. \n",
    "\n",
    "<li> Matlab-like plotting functionalities\n",
    "<li> Easy high resolution export to .png, .pdf, etc. \n",
    "<li> Easy annotation, latex integration \n",
    "\n",
    "<a href=\"http://matplotlib.org/users/pyplot_tutorial.html\"> Tutorial </a>"
   ]
  },
  {
   "cell_type": "code",
   "execution_count": 7,
   "metadata": {
    "collapsed": true,
    "slideshow": {
     "slide_type": "subslide"
    }
   },
   "outputs": [],
   "source": [
    "# Ensure that the plots are displayed within the python notebook\n",
    "%matplotlib inline\n",
    "\n",
    "# import the pyplot part of matplotlib which contains the commands for plotting\n",
    "import matplotlib.pyplot as plt"
   ]
  },
  {
   "cell_type": "markdown",
   "metadata": {
    "collapsed": true
   },
   "source": [
    "## Structure of the figure \n",
    "Similar to Matlab:<br>\n",
    "<img style=\"float:left; margin-right:20px\" src=\"http://matplotlib.org/_images/fig_map.png\"> <br> \n",
    "<li> <a href=\"http://matplotlib.org/api/figure_api.html#matplotlib.figure.Figure\"><b>Figure</b></a> is the overall plot.\n",
    "<li> One Figure can contain multiple <a href=\"http://matplotlib.org/api/axes_api.html\"><b> Axes</b></a> objects corresponding to subplots.\n",
    "<li> The Axes object is used to draw the data.\n",
    "<li> It can also control the Axis objects (x- and y axis in 2D plot), i.e. limits, ticks, labels, etc."
   ]
  },
  {
   "cell_type": "code",
   "execution_count": 8,
   "metadata": {
    "collapsed": false,
    "slideshow": {
     "slide_type": "fragment"
    }
   },
   "outputs": [
    {
     "data": {
      "image/png": "[encoded data removed]",
      "text/plain": [
       "<matplotlib.figure.Figure at 0xc1fab70>"
      ]
     },
     "metadata": {},
     "output_type": "display_data"
    }
   ],
   "source": [
    "#Create a figure of a specific width and height\n",
    "fig = plt.figure(figsize=(20,5))\n",
    "#Create three horizontal subplots within the figure\n",
    "axes_1 = plt.subplot(1,3,1) \n",
    "axes_2 = plt.subplot(1,3,2) \n",
    "axes_3 = plt.subplot(1,3,3) \n",
    "\n",
    "#Note: this can also be written within one line: \n",
    "# fig, axes_list = plt.subplots(1, 3)"
   ]
  },
  {
   "cell_type": "markdown",
   "metadata": {
    "slideshow": {
     "slide_type": "slide"
    }
   },
   "source": [
    "## Bar plots and Histograms\n",
    "\n",
    "Call the resepctive method either by its own to plot it in a new Figure and Axes object or on the corresponding Axes. \n",
    "\n",
    "<li> <a href=\"http://matplotlib.org/api/pyplot_api.html#matplotlib.pyplot.bar\"> plt.bar() </a> \n",
    "\n",
    "<li> <a href=\"http://matplotlib.org/api/pyplot_api.html#matplotlib.pyplot.barh\"> plt.barh() </a> </li>\n",
    "\n",
    "<li> <a href=\"http://matplotlib.org/api/pyplot_api.html#matplotlib.pyplot.hist\"> plt.hist() </a> </li>\n",
    "\n",
    "<li> <a href=\"http://matplotlib.org/api/pyplot_api.html#matplotlib.pyplot.hist2d\"> plt.hist2d() </a> </li>\n",
    "\n"
   ]
  },
  {
   "cell_type": "markdown",
   "metadata": {
    "slideshow": {
     "slide_type": "slide"
    }
   },
   "source": [
    "## Bar plots\n",
    "Compare the computer usage per week of men vs. women"
   ]
  },
  {
   "cell_type": "code",
   "execution_count": 9,
   "metadata": {
    "collapsed": false,
    "slideshow": {
     "slide_type": "subslide"
    }
   },
   "outputs": [
    {
     "data": {
      "image/png": "[encoded data removed]",
      "text/plain": [
       "<matplotlib.figure.Figure at 0xc5f7668>"
      ]
     },
     "metadata": {},
     "output_type": "display_data"
    }
   ],
   "source": [
    "usage_f = data[data.Female == 1].computer_usage_week.mean()\n",
    "usage_m = data[data.Female == 0].computer_usage_week.mean()\n",
    "\n",
    "#Compare the computer usage of men and women\n",
    "f, ax = plt.subplots(1,1)\n",
    "bars = ax.bar([0,1], [usage_m, usage_f], width=0.5)"
   ]
  },
  {
   "cell_type": "markdown",
   "metadata": {
    "slideshow": {
     "slide_type": "slide"
    }
   },
   "source": [
    "### Plotting directly via Pandas\n",
    "via <a href=\"http://pandas.pydata.org/pandas-docs/version/0.15.0/generated/pandas.DataFrame.plot.html#pandas.DataFrame.plot\"> DataFrame.plot()</a> function.\n",
    "\n",
    "useful method: \n",
    "\n",
    "Instead of filtering by men and women we can use the DataFrames' <code> <a href=\"http://pandas.pydata.org/pandas-docs/stable/generated/pandas.DataFrame.groupby.html\">grouby()</a> </code> method. It groups the DataFrame by the values in the given column. \n",
    "\n",
    "<code> mean() </code> gives us the mean for each of these groups in a DataFrame object."
   ]
  },
  {
   "cell_type": "code",
   "execution_count": 10,
   "metadata": {
    "collapsed": false,
    "slideshow": {
     "slide_type": "subslide"
    }
   },
   "outputs": [
    {
     "data": {
      "image/png": "[encoded data removed]",
      "text/plain": [
       "<matplotlib.figure.Figure at 0xc45cc88>"
      ]
     },
     "metadata": {},
     "output_type": "display_data"
    }
   ],
   "source": [
    "ax = data.groupby(\"Female\").computer_usage_week.mean().plot(kind=\"bar\", rot=0)"
   ]
  },
  {
   "cell_type": "markdown",
   "metadata": {
    "collapsed": false,
    "slideshow": {
     "slide_type": "fragment"
    }
   },
   "source": [
    "Plotting directly on the DataFrame automatically takes care of the positioning and width of bars, xticks and labels. "
   ]
  },
  {
   "cell_type": "markdown",
   "metadata": {
    "collapsed": false,
    "slideshow": {
     "slide_type": "slide"
    }
   },
   "source": [
    "## Axis styles and labels\n",
    "\n",
    "Remember: the Axes object controls the appearance of the axis, that is labels, ticks, ticklabels, etc. \n",
    "Let's take our first plot as an example: "
   ]
  },
  {
   "cell_type": "code",
   "execution_count": 11,
   "metadata": {
    "collapsed": false,
    "slideshow": {
     "slide_type": "fragment"
    }
   },
   "outputs": [
    {
     "data": {
      "image/png": "[encoded data removed]",
      "text/plain": [
       "<matplotlib.figure.Figure at 0xc87e0b8>"
      ]
     },
     "metadata": {},
     "output_type": "display_data"
    }
   ],
   "source": [
    "#Compare the computer usage of men and women\n",
    "fig, ax = plt.subplots(1,1)\n",
    "bars = ax.bar([0,1], [usage_m, usage_f], width=0.5)"
   ]
  },
  {
   "cell_type": "code",
   "execution_count": 12,
   "metadata": {
    "collapsed": false,
    "slideshow": {
     "slide_type": "subslide"
    }
   },
   "outputs": [
    {
     "data": {
      "image/png": "[encoded data removed]",
      "text/plain": [
       "<matplotlib.figure.Figure at 0xc87e0b8>"
      ]
     },
     "execution_count": 12,
     "metadata": {},
     "output_type": "execute_result"
    }
   ],
   "source": [
    "ax.set_ylabel(\"Computer usage per week (h)\")\n",
    "\n",
    "ax.set_xticks([0.25,1.25])\n",
    "ax.set_xlim([-0.3, 1.8])\n",
    "ax.set_xticklabels([\"Men\", \"Women\"])\n",
    "\n",
    "ax.set_title(\"Computer usage Men vs. Women\")\n",
    "fig"
   ]
  },
  {
   "cell_type": "markdown",
   "metadata": {
    "collapsed": true,
    "slideshow": {
     "slide_type": "slide"
    }
   },
   "source": [
    "## Histogram\n",
    "\n",
    "Let's look at the distribution of how many fingers people user for typing by plotting a histogram.<br>\n",
    "Note: the <code> fingers_letters </code> column only considers the letter keys, excluding special keys such as Enter and Backspace.\n",
    "\n",
    "<li> <code> bins : integer or array_like </code> number of bins or boundaries of the bins."
   ]
  },
  {
   "cell_type": "code",
   "execution_count": 13,
   "metadata": {
    "collapsed": false,
    "slideshow": {
     "slide_type": "subslide"
    }
   },
   "outputs": [
    {
     "data": {
      "text/plain": [
       "<matplotlib.text.Text at 0xdc57828>"
      ]
     },
     "execution_count": 13,
     "metadata": {},
     "output_type": "execute_result"
    },
    {
     "data": {
      "image/png": "[encoded data removed]",
      "text/plain": [
       "<matplotlib.figure.Figure at 0xc8893c8>"
      ]
     },
     "metadata": {},
     "output_type": "display_data"
    }
   ],
   "source": [
    "fig, ax = plt.subplots(1,1)\n",
    "n,bins,p = ax.hist(data.fingers_letters, bins=[4,5,6,7,8,9,10])\n",
    "\n",
    "ax.set_xlabel(\"Number of active fingers\")\n",
    "ax.set_ylabel(\"Frequency\")"
   ]
  },
  {
   "cell_type": "markdown",
   "metadata": {
    "slideshow": {
     "slide_type": "subslide"
    }
   },
   "source": [
    "We can also look at the distribution for the left and right hand separately.\n",
    "\n",
    "Arguments for <code> <a href=\"http://matplotlib.org/api/pyplot_api.html#matplotlib.pyplot.hist\"> hist() </a> </code> used here:\n",
    "<li> <code> stacked : boolean </code> we can show the two categories next to each other or stacked.\n",
    "<li> <code> color : color or array_like of colors or None </code> one color for each category, e.g. as hex taken from <a href=\"http://colorbrewer2.org/\"> ColorBrewer </a>\n",
    "\n",
    "Legend:\n",
    "<li> <code> <a href=\"http://matplotlib.org/1.3.1/api/pyplot_api.html#matplotlib.pyplot.legend\">ax.legend()</a> </code> show a legend with the given entries<br>\n",
    "\n",
    "Grid: \n",
    "<li> <code><a href=\"http://matplotlib.org/api/pyplot_api.html#matplotlib.pyplot.grid\">ax.grid()</a></code> controls the grid lines that are displayed. "
   ]
  },
  {
   "cell_type": "code",
   "execution_count": 14,
   "metadata": {
    "collapsed": false,
    "slideshow": {
     "slide_type": "fragment"
    }
   },
   "outputs": [
    {
     "data": {
      "image/png": "[encoded data removed]",
      "text/plain": [
       "<matplotlib.figure.Figure at 0xdc57ac8>"
      ]
     },
     "metadata": {},
     "output_type": "display_data"
    }
   ],
   "source": [
    "fig_hist, axes = plt.subplots(1,2, figsize=(10,5))\n",
    "n,bins,p =axes[0].hist([data.fingers_left, data.fingers_right], bins=[1,2,3,4,5,6], color=[\"#d01c8b\", \"#4dac26\"])\n",
    "n,bins,p =axes[1].hist([data.fingers_left, data.fingers_right], bins=[1,2,3,4,5,6], color=[\"#d01c8b\", \"#4dac26\"], stacked=True)\n",
    "\n",
    "for ax in axes:\n",
    "    ax.set_xticks([1,2,3,4,5,6])\n",
    "    ax.set_xlabel(\"Number of active Fingers\")\n",
    "    \n",
    "    #Define and show the legend explaining which color is which hand\n",
    "    ax.legend([\"Left hand\", \"Right hand\"], loc=\"upper left\")\n",
    "    \n",
    "axes[0].set_ylabel(\"Frequency\") #To save some space we can set the ylabel only on the first axis\n",
    "\n",
    "#draw the grid lines\n",
    "axes[0].grid()\n",
    "axes[1].grid(axis=\"y\")"
   ]
  },
  {
   "cell_type": "markdown",
   "metadata": {
    "slideshow": {
     "slide_type": "slide"
    }
   },
   "source": [
    "## Line plot \n",
    "\n",
    "The <code> <a href=\"http://matplotlib.org/api/pyplot_api.html#matplotlib.pyplot.plot\">plt.plot()</a></code> creates a simple line plot. Again the usage is very similar to matlab, where you can use short strings to define the plot color, line style and markers, e.g.:\n",
    "<li> <code> 'r-' </code> for a black line with no marker\n",
    "<li> <code>'go--' </code> for a green dashed line with circular markers\n",
    "\n",
    "Alternatively to the abbreviation string, you can define many parameters directly in the function call, such as color, linewidth, linestyle, etc. For all options see <code><a href=\"http://matplotlib.org/api/lines_api.html#matplotlib.lines.Line2D\">Line2D</a></code>\n",
    "\n",
    "For this example, let's generate some continuous toy data, as done in the example <a href=\"http://matplotlib.org/users/screenshots.html#subplot-demo\"> here </a>."
   ]
  },
  {
   "cell_type": "code",
   "execution_count": 15,
   "metadata": {
    "collapsed": false,
    "slideshow": {
     "slide_type": "fragment"
    }
   },
   "outputs": [],
   "source": [
    "import numpy as np\n",
    "x = np.linspace(0.0, 5.0)\n",
    "y = np.cos(2 * np.pi * x) * np.exp(-x)"
   ]
  },
  {
   "cell_type": "code",
   "execution_count": 16,
   "metadata": {
    "collapsed": false,
    "slideshow": {
     "slide_type": "subslide"
    }
   },
   "outputs": [
    {
     "data": {
      "text/plain": [
       "[<matplotlib.lines.Line2D at 0xe1e70f0>]"
      ]
     },
     "execution_count": 16,
     "metadata": {},
     "output_type": "execute_result"
    },
    {
     "data": {
      "image/png": "[encoded data removed]",
      "text/plain": [
       "<matplotlib.figure.Figure at 0xddd8908>"
      ]
     },
     "metadata": {},
     "output_type": "display_data"
    }
   ],
   "source": [
    "fig_line, axes = plt.subplots(1,2, figsize=(10,5))\n",
    "\n",
    "axes[0].plot(x, y, 'go--')\n",
    "axes[1].plot(x, y, color=\"#d01c8b\", marker = \"^\", linewidth=2)"
   ]
  },
  {
   "cell_type": "markdown",
   "metadata": {
    "slideshow": {
     "slide_type": "slide"
    }
   },
   "source": [
    "### Annotation\n",
    "You can annotate your plots with <code><a href=\"http://matplotlib.org/api/pyplot_api.html#matplotlib.pyplot.text\">text()</a></code> or <code><a href=\"http://matplotlib.org/api/axes_api.html?highlight=annotate#matplotlib.axes.Axes.annotate\">annotate()</a></code>. The great thing is that it supports latex code!"
   ]
  },
  {
   "cell_type": "code",
   "execution_count": 17,
   "metadata": {
    "collapsed": false,
    "slideshow": {
     "slide_type": "fragment"
    }
   },
   "outputs": [
    {
     "data": {
      "image/png": "[encoded data removed]",
      "text/plain": [
       "<matplotlib.figure.Figure at 0xddd8908>"
      ]
     },
     "execution_count": 17,
     "metadata": {},
     "output_type": "execute_result"
    }
   ],
   "source": [
    "#For text() you first give the coordinates where the text should and then the text.\n",
    "axes[0].text(4.9,-0.5,\"$f(x) = cos(2 \\pi x) \\cdot e^{-x}$\", horizontalalignment='right', fontsize=16)\n",
    "\n",
    "#For annotate() you can give the position of the point you want to annotate and the where the annotation text should be. \n",
    "axes[1].annotate(\"A peak\", xy=(x[9], y[9]), xytext=(x[9]+0.1, y[9]+0.1), horizontalalignment=\"center\", fontsize=12)\n",
    "\n",
    "fig_line"
   ]
  },
  {
   "cell_type": "markdown",
   "metadata": {
    "slideshow": {
     "slide_type": "slide"
    }
   },
   "source": [
    "## Scatter plot\n",
    "\n",
    "Back to our original data. <br>\n",
    "For this the scatter plots are more useful than the line plots. \n",
    "<li> <code> <a href=\"http://matplotlib.org/api/pyplot_api.html#matplotlib.pyplot.scatter\">plt.scatter()</a></code>\n",
    "\n",
    "For example we can plot the weekly computer usage against typing performance."
   ]
  },
  {
   "cell_type": "code",
   "execution_count": 18,
   "metadata": {
    "collapsed": false,
    "slideshow": {
     "slide_type": "subslide"
    }
   },
   "outputs": [
    {
     "data": {
      "text/plain": [
       "<matplotlib.text.Text at 0xe9fd7f0>"
      ]
     },
     "execution_count": 18,
     "metadata": {},
     "output_type": "execute_result"
    },
    {
     "name": "stderr",
     "output_type": "stream",
     "text": [
      "C:\\Users\\feita1\\Python_Anaconda\\lib\\site-packages\\matplotlib\\collections.py:590: FutureWarning: elementwise comparison failed; returning scalar instead, but in the future will perform elementwise comparison\n",
      "  if self._edgecolors == str('face'):\n"
     ]
    },
    {
     "data": {
      "image/png": "[encoded data removed]",
      "text/plain": [
       "<matplotlib.figure.Figure at 0xe54b400>"
      ]
     },
     "metadata": {},
     "output_type": "display_data"
    }
   ],
   "source": [
    "fig, ax = plt.subplots(1,1)\n",
    "\n",
    "#scatter the data\n",
    "ax.scatter(data.computer_usage_week, data.wpm)\n",
    "\n",
    "#annotate axes\n",
    "ax.set_xlabel(\"Computer usage per week (h)\")\n",
    "ax.set_ylabel(\"Typing Performance (WPM)\")"
   ]
  },
  {
   "cell_type": "markdown",
   "metadata": {
    "slideshow": {
     "slide_type": "slide"
    }
   },
   "source": [
    "There is probably a correlation and depending on how we set the figure dimensions we may perceive it better or worse. \n",
    "You can set the figure size via <code> fig.set_size_inches() </code> or vis the argument <code> figsize </code> when you create it."
   ]
  },
  {
   "cell_type": "code",
   "execution_count": 19,
   "metadata": {
    "collapsed": false,
    "slideshow": {
     "slide_type": "fragment"
    }
   },
   "outputs": [
    {
     "data": {
      "image/png": "[encoded data removed]",
      "text/plain": [
       "<matplotlib.figure.Figure at 0xe54b400>"
      ]
     },
     "execution_count": 19,
     "metadata": {},
     "output_type": "execute_result"
    }
   ],
   "source": [
    "fig.set_size_inches(5,5)\n",
    "fig"
   ]
  },
  {
   "cell_type": "markdown",
   "metadata": {
    "slideshow": {
     "slide_type": "slide"
    }
   },
   "source": [
    "We can draw to scatter plots if we for example want to compare the relation between weekly typing and performance for touch and non-touch typists separately. \n",
    "\n",
    "This time, let's use the plotting function directly on the DataFrame.\n",
    "<li> <code> ax=axes </code> let's us specify the axes on which we want the data to be plotted. \n",
    "<li> <code> s=50 </code> defines the size of the marker. Note, this can also be a list of sizes, one for each datapoint, e.g. a column in the dataframe.\n",
    "<li> <code> marker </code> changes the <a href=\"http://matplotlib.org/api/markers_api.html#module-matplotlib.markers\"> marker style</a>. Note that you can even use latex-rendered strings as a marker. \n",
    "<li> <code> color </code> or <code> facecolor </code> defines the color of the marker.\n",
    "<li> <code> lw=0 </code> sets the linewidth of the marker border to 0."
   ]
  },
  {
   "cell_type": "code",
   "execution_count": 20,
   "metadata": {
    "collapsed": false,
    "slideshow": {
     "slide_type": "fragment"
    }
   },
   "outputs": [
    {
     "data": {
      "text/plain": [
       "<matplotlib.legend.Legend at 0xe918be0>"
      ]
     },
     "execution_count": 20,
     "metadata": {},
     "output_type": "execute_result"
    },
    {
     "data": {
      "image/png": "[encoded data removed]",
      "text/plain": [
       "<matplotlib.figure.Figure at 0xe95e0b8>"
      ]
     },
     "metadata": {},
     "output_type": "display_data"
    }
   ],
   "source": [
    "fig, axes = plt.subplots(1,1, figsize=(5,5))\n",
    "\n",
    "#scatter the data\n",
    "data[data.Touch==0].plot(kind=\"scatter\", x=\"computer_usage_week\", y=\"wpm\", s=50, ax=axes, color=\"#4dac26\", lw=0, marker=\"D\")\n",
    "data[data.Touch==1].plot(kind=\"scatter\", x=\"computer_usage_week\", y=\"wpm\", s=50, ax=axes, color=\"#d01c8b\", lw=0, marker=\"$T$\")\n",
    "\n",
    "#annotate axes\n",
    "axes.set_xlabel(\"Computer usage per week (h)\")\n",
    "axes.set_ylabel(\"Typing Performance (WPM)\")\n",
    "#add a legend\n",
    "axes.legend([\"Non-touch\", \"Touch\"], loc=\"upper left\")"
   ]
  },
  {
   "cell_type": "markdown",
   "metadata": {
    "slideshow": {
     "slide_type": "slide"
    }
   },
   "source": [
    "## Export for Publications\n",
    "\n",
    "Fontsize, linesize etc.:\n",
    "<li> Best if you set these upfront for all your graphics\n",
    "<li> create a dictionary with the parameters you want to change\n",
    "<li> use <code> <a href=\"http://matplotlib.org/users/customizing.html\">plt.rcParams.update(params)</a> </code> to set the changes\n",
    "\n",
    "<i> Note: The fontsize and linewidth etc. depends on the size of your figure and the export format. I found that exporting to pdf requires thinner lines than exporting to png but I couldn't find a golden standard yet. Defining a function like this: <a href=\"http://nipunbatra.github.io/2014/08/latexify/\">Latexify your matplotlib</a> upfront will be useful to easily get the same style for every figure. </i>"
   ]
  },
  {
   "cell_type": "code",
   "execution_count": 21,
   "metadata": {
    "collapsed": false,
    "slideshow": {
     "slide_type": "fragment"
    }
   },
   "outputs": [],
   "source": [
    "params = {\n",
    "    'axes.labelsize': 18, # fontsize for x and y labels (was 10)\n",
    "    'axes.titlesize': 16, \n",
    "    'font.size': 16, #for annotations\n",
    "    'legend.fontsize': 14,\n",
    "    'xtick.labelsize': 12,\n",
    "    'ytick.labelsize': 12,\n",
    "    'figure.figsize': [8,6] #the standard figsize to use\n",
    "}\n",
    "plt.rcParams.update(params)"
   ]
  },
  {
   "cell_type": "markdown",
   "metadata": {
    "slideshow": {
     "slide_type": "slide"
    }
   },
   "source": [
    "File Format: <br>\n",
    "<li> pdf: vector graphic, great for latex documents!\n",
    "<li> png: image, e.g. for presentations\n",
    "\n",
    "<code> <a href=\"http://matplotlib.org/api/figure_api.html?highlight=savefig#matplotlib.figure.Figure.savefig\">Figure.savefig()</a></code> saves the figure:\n",
    "<li> The plotname is used to infer the format if not given by <code>format</code>\n",
    "<li> <code>bbox_inches='tight'</code> reduces the whitespace around the figure\n",
    "<li> <code>dpi </code> defines the resolution."
   ]
  },
  {
   "cell_type": "code",
   "execution_count": 22,
   "metadata": {
    "collapsed": false,
    "slideshow": {
     "slide_type": "fragment"
    }
   },
   "outputs": [
    {
     "data": {
      "image/png": "[encoded data removed]",
      "text/plain": [
       "<matplotlib.figure.Figure at 0xdc57ac8>"
      ]
     },
     "execution_count": 22,
     "metadata": {},
     "output_type": "execute_result"
    }
   ],
   "source": [
    "fig_hist.savefig(\"myhist.pdf\", bbox_inches='tight', dpi=300)\n",
    "fig_hist.savefig(\"myhist.png\", bbox_inches='tight', dpi=300)\n",
    "fig_hist\n"
   ]
  },
  {
   "cell_type": "markdown",
   "metadata": {
    "slideshow": {
     "slide_type": "slide"
    }
   },
   "source": [
    "# Quick and Pretty Plots with <a href=\"https://stanford.edu/~mwaskom/software/seaborn\">Seaborn</a>\n",
    "\n",
    "Developed by <a href=\"https://stanford.edu/~mwaskom/\">Michael Waskom</a>, PhD student of Psychology in Stanford.\n",
    "\n",
    "<li> Extends matplotlib with powerful and easy to use methods, integrating numpy, pandas, scipy, and statsmodels.\n",
    "<li> Defines few, easy to change, good looking themes for matplotlib figures, axes, etc. \n",
    "<li> Provides easy methods to define good colors (e.g. in-built colorBrewer palettes)\n",
    "<li> Easy data exploration with powerful statistical plots as one-liners: uni- and bivariate distributions, linear regression, timeseries, grids of plots,...\n",
    "\n",
    "The <a href=\"https://stanford.edu/~mwaskom/software/seaborn/tutorial.html\"> Tutorial </a> gives a good introduction to what is possible."
   ]
  },
  {
   "cell_type": "markdown",
   "metadata": {
    "slideshow": {
     "slide_type": "slide"
    }
   },
   "source": [
    "# Quick and Pretty Plots with <a href=\"https://stanford.edu/~mwaskom/software/seaborn\">Seaborn</a>\n",
    "\n",
    "By default, after importing seaborn, plotting data with matplotlib looks like this"
   ]
  },
  {
   "cell_type": "code",
   "execution_count": 23,
   "metadata": {
    "collapsed": false,
    "slideshow": {
     "slide_type": "subslide"
    }
   },
   "outputs": [
    {
     "data": {
      "text/plain": [
       "<matplotlib.legend.Legend at 0x218d0b70>"
      ]
     },
     "execution_count": 23,
     "metadata": {},
     "output_type": "execute_result"
    },
    {
     "data": {
      "image/png": "[encoded data removed]",
      "text/plain": [
       "<matplotlib.figure.Figure at 0xe0d9f98>"
      ]
     },
     "metadata": {},
     "output_type": "display_data"
    }
   ],
   "source": [
    "import seaborn as sns\n",
    "\n",
    "fig_hist, ax = plt.subplots(1,1)\n",
    "n,bins,p =ax.hist([data.fingers_left, data.fingers_right], bins=[1,2,3,4,5,6], color=[\"#d01c8b\", \"#4dac26\"])\n",
    "\n",
    "ax.set_xticks([1,2,3,4,5,6])\n",
    "ax.set_xlabel(\"Number of active Fingers\")\n",
    "ax.set_ylabel(\"Frequency\") \n",
    "\n",
    "ax.legend([\"Left hand\", \"Right hand\"], loc=\"upper left\")"
   ]
  },
  {
   "cell_type": "markdown",
   "metadata": {
    "slideshow": {
     "slide_type": "subslide"
    }
   },
   "source": [
    "### <a href=\"https://stanford.edu/~mwaskom/software/seaborn/tutorial/aesthetics.html#styling-figures-with-axes-style-and-set-style\">Themes and axis</a>\n",
    "With <code> <a href=\"https://stanford.edu/~mwaskom/software/seaborn/generated/seaborn.set_style.html#seaborn.set_style\">sns.set_style()</a> </code> you can switch between the five themes of seaborn: <code> darkgrid, whitegrid, dark, white,</code> and <code>ticks</code>. Use <code> <a href=\"https://stanford.edu/~mwaskom/software/seaborn/generated/seaborn.despine.html#seaborn.despine\">sns.despine()</a></code> to remove all or parts of the axes borders."
   ]
  },
  {
   "cell_type": "code",
   "execution_count": 24,
   "metadata": {
    "collapsed": false,
    "slideshow": {
     "slide_type": "fragment"
    }
   },
   "outputs": [],
   "source": [
    "sns.set_style(\"ticks\")"
   ]
  },
  {
   "cell_type": "code",
   "execution_count": 25,
   "metadata": {
    "collapsed": false,
    "slideshow": {
     "slide_type": "subslide"
    }
   },
   "outputs": [
    {
     "data": {
      "image/png": "[encoded data removed]",
      "text/plain": [
       "<matplotlib.figure.Figure at 0x21883550>"
      ]
     },
     "metadata": {},
     "output_type": "display_data"
    }
   ],
   "source": [
    "fig_hist, ax = plt.subplots(1,1)\n",
    "n,bins,p =ax.hist([data.fingers_left, data.fingers_right], bins=[1,2,3,4,5,6], color=[\"#d01c8b\", \"#4dac26\"])\n",
    "\n",
    "ax.set_xticks([1,2,3,4,5,6])\n",
    "ax.set_xlabel(\"Number of active Fingers\")\n",
    "ax.set_ylabel(\"Frequency\") \n",
    "\n",
    "ax.legend([\"Left hand\", \"Right hand\"], loc=\"upper left\")\n",
    "\n",
    "#This removes the top and right border. Call after plotting.\n",
    "sns.despine()"
   ]
  },
  {
   "cell_type": "markdown",
   "metadata": {
    "slideshow": {
     "slide_type": "slide"
    }
   },
   "source": [
    "### <a href=\"https://stanford.edu/~mwaskom/software/seaborn/tutorial/aesthetics.html#scaling-plot-elements-with-plotting-context-and-set-context\">Plot size</a>\n",
    "\n",
    "Use <code> <a href=\"https://stanford.edu/~mwaskom/software/seaborn/generated/seaborn.set_context.html#seaborn.set_context\">set_context()</a></code> to similarly switch between themes that define linewidths and font sizes for different use cases. You can choose between <code> paper, notebook, talk, </code> and <code> poster </code>. \n",
    "\n",
    "However, the fontsize may be more or less suitable depending on the size you choose for your figure. It's always best to save the figure to really see the outcome."
   ]
  },
  {
   "cell_type": "code",
   "execution_count": 26,
   "metadata": {
    "collapsed": true,
    "slideshow": {
     "slide_type": "fragment"
    }
   },
   "outputs": [],
   "source": [
    "sns.set() #resets all the previously changed parameters to default.\n",
    "sns.set_context('poster')"
   ]
  },
  {
   "cell_type": "code",
   "execution_count": 27,
   "metadata": {
    "collapsed": false,
    "slideshow": {
     "slide_type": "subslide"
    }
   },
   "outputs": [
    {
     "data": {
      "image/png": "[encoded data removed]",
      "text/plain": [
       "<matplotlib.figure.Figure at 0x21ca2978>"
      ]
     },
     "metadata": {},
     "output_type": "display_data"
    }
   ],
   "source": [
    "fig_hist, ax = plt.subplots(1,1, figsize=(6,4))\n",
    "n,bins,p =ax.hist([data.fingers_left, data.fingers_right], bins=[1,2,3,4,5,6], color=[\"#d01c8b\", \"#4dac26\"])\n",
    "\n",
    "ax.set_xticks([1,2,3,4,5,6])\n",
    "ax.set_xlabel(\"Number of active Fingers\")\n",
    "ax.set_ylabel(\"Frequency\") \n",
    "\n",
    "ax.legend([\"Left hand\", \"Right hand\"], loc=\"upper left\")\n",
    "fig_hist.savefig(\"myhist2.png\", bbox_inches='tight', dpi=300)"
   ]
  },
  {
   "cell_type": "markdown",
   "metadata": {},
   "source": [
    "### <a href=\"https://stanford.edu/~mwaskom/software/seaborn/tutorial/color_palettes.html\">Color</a>\n",
    "Seaborn comes with many in-built color palettes, which are designed not only to look good, but also with different properties in mind, such as color blindness, printable in black and white, etc. \n",
    "\n",
    "It also integreates the previously mentioned colorBrewer palettes. \n",
    "\n",
    "To get the color of a color paletter, e.g. to explicitly give as an argument for plotting, use <code> <a href=\"https://stanford.edu/~mwaskom/software/seaborn/generated/seaborn.color_palette.html#seaborn.color_palette\">color_palette()</a> </code>\n",
    "\n",
    "To set the default colors to be used for plotting, use <code><a href=\"https://stanford.edu/~mwaskom/software/seaborn/generated/seaborn.set_palette.html#seaborn.set_palette\">set_palette()</a></code>\n",
    "\n",
    "I won't give examples here, you should go to the seaborn tutorial for exploring the many colors :)"
   ]
  },
  {
   "cell_type": "markdown",
   "metadata": {
    "slideshow": {
     "slide_type": "slide"
    }
   },
   "source": [
    "### Plotting methods\n",
    "\n",
    "Seaborn is great for quickly changing figure styles and sizes. \n",
    "\n",
    "It also provides methods for easily exploring your data. I recommend having a look at the <a href=\"https://stanford.edu/~mwaskom/software/seaborn/tutorial.html\"> Tutorial </a> which covers:\n",
    "<li> <a href=\"https://stanford.edu/~mwaskom/software/seaborn/tutorial/distributions.html\"> Visualizing distributions of your data</a>\n",
    "<li> <a href=\"https://stanford.edu/~mwaskom/software/seaborn/tutorial/regression.html\"> Visualizing linear relationships</a>\n",
    "<li> <a href=\"https://stanford.edu/~mwaskom/software/seaborn/tutorial/categorical.html\"> Plotting categorical data</a>\n",
    "<li> <a href=\"https://stanford.edu/~mwaskom/software/seaborn/tutorial/axis_grids.html\"> Plotting on data-aware grids </a>"
   ]
  },
  {
   "cell_type": "markdown",
   "metadata": {
    "slideshow": {
     "slide_type": "slide"
    }
   },
   "source": [
    "#### Quick example: \n",
    "Visualize the linear relationship between computer usage and wpm from before. \n",
    "\n",
    "The method <code><a href=\"https://stanford.edu/~mwaskom/software/seaborn/generated/seaborn.lmplot.html#seaborn.lmplot\"> sns.lmplot()</a></code> scatters the data and fits a linear regression model. "
   ]
  },
  {
   "cell_type": "code",
   "execution_count": 34,
   "metadata": {
    "collapsed": false,
    "slideshow": {
     "slide_type": "fragment"
    }
   },
   "outputs": [
    {
     "data": {
      "text/plain": [
       "<seaborn.axisgrid.FacetGrid at 0x234e2828>"
      ]
     },
     "execution_count": 34,
     "metadata": {},
     "output_type": "execute_result"
    },
    {
     "data": {
      "image/png": "[encoded data removed]",
      "text/plain": [
       "<matplotlib.figure.Figure at 0x234e2748>"
      ]
     },
     "metadata": {},
     "output_type": "display_data"
    }
   ],
   "source": [
    "sns.set()\n",
    "\n",
    "sns.lmplot(data=data,x=\"computer_usage_week\", y=\"wpm\")"
   ]
  },
  {
   "cell_type": "markdown",
   "metadata": {
    "slideshow": {
     "slide_type": "subslide"
    }
   },
   "source": [
    "An additional argument <code> hue </code> allows you to quickly differ between categories in the data:"
   ]
  },
  {
   "cell_type": "code",
   "execution_count": 35,
   "metadata": {
    "collapsed": false,
    "slideshow": {
     "slide_type": "fragment"
    }
   },
   "outputs": [
    {
     "data": {
      "text/plain": [
       "<seaborn.axisgrid.FacetGrid at 0x23632b00>"
      ]
     },
     "execution_count": 35,
     "metadata": {},
     "output_type": "execute_result"
    },
    {
     "data": {
      "image/png": "[encoded data removed]",
      "text/plain": [
       "<matplotlib.figure.Figure at 0x236329e8>"
      ]
     },
     "metadata": {},
     "output_type": "display_data"
    }
   ],
   "source": [
    "sns.lmplot(data=data,x=\"computer_usage_week\", y=\"wpm\", hue=\"Touch\")"
   ]
  },
  {
   "cell_type": "markdown",
   "metadata": {
    "slideshow": {
     "slide_type": "subslide"
    }
   },
   "source": [
    "Or draw them in two plots by using the <code> row </code> or <code> col </code> argument"
   ]
  },
  {
   "cell_type": "code",
   "execution_count": 36,
   "metadata": {
    "collapsed": false,
    "slideshow": {
     "slide_type": "fragment"
    }
   },
   "outputs": [
    {
     "data": {
      "text/plain": [
       "<seaborn.axisgrid.FacetGrid at 0x23683160>"
      ]
     },
     "execution_count": 36,
     "metadata": {},
     "output_type": "execute_result"
    },
    {
     "data": {
      "image/png": "[encoded data removed]",
      "text/plain": [
       "<matplotlib.figure.Figure at 0x234ed2e8>"
      ]
     },
     "metadata": {},
     "output_type": "display_data"
    }
   ],
   "source": [
    "sns.lmplot(data=data,x=\"computer_usage_week\", y=\"wpm\", col=\"Touch\")"
   ]
  },
  {
   "cell_type": "markdown",
   "metadata": {
    "slideshow": {
     "slide_type": "slide"
    }
   },
   "source": [
    "<code> <a href=\"https://stanford.edu/~mwaskom/software/seaborn/tutorial/axis_grids.html#subsetting-data-with-facetgrid\">FacetGrid</a></code> allows you to use the same shortcut with regular matplotlib methods."
   ]
  },
  {
   "cell_type": "code",
   "execution_count": 44,
   "metadata": {
    "collapsed": false,
    "slideshow": {
     "slide_type": "subslide"
    }
   },
   "outputs": [
    {
     "data": {
      "image/png": "[encoded data removed]",
      "text/plain": [
       "<matplotlib.figure.Figure at 0x24d641d0>"
      ]
     },
     "metadata": {},
     "output_type": "display_data"
    }
   ],
   "source": [
    "#Prepares the grid of subplots\n",
    "g = sns.FacetGrid(data, col=\"Female\", hue=\"Touch\")\n",
    "\n",
    "#plots the data on the right subplots\n",
    "g.map(plt.scatter, \"computer_usage_week\", \"wpm\", alpha=.7, s=50)\n",
    "\n",
    "g.add_legend();\n",
    "\n",
    "g.fig.set_size_inches(8,4)"
   ]
  },
  {
   "cell_type": "markdown",
   "metadata": {
    "slideshow": {
     "slide_type": "slide"
    }
   },
   "source": [
    "# Take your own data and explore the quick and pretty way of plotting with Matplotlib and Seaborn\n",
    "\n",
    "Alternatively continue exploring our dataset. \n",
    "\n",
    "<li> Create a new notebook\n",
    "<li> Import the data with pandas\n",
    "<li> Look at the DataFrame and decide what you want to visualize. Do you want to explore the data or visualize a certain effect?\n",
    "<li> Create a <code>scatter()</code>, <code>hist()</code> or <code>bar()</code> plot \n",
    "<li> Or explore the plotting methods of Seaborn\n",
    "<li> Export your plot in a format that is ready to be used for your paper."
   ]
  },
  {
   "cell_type": "code",
   "execution_count": null,
   "metadata": {
    "collapsed": true
   },
   "outputs": [],
   "source": []
  }
 ],
 "metadata": {
  "celltoolbar": "Slideshow",
  "kernelspec": {
   "display_name": "Python 2",
   "language": "python",
   "name": "python2"
  },
  "language_info": {
   "codemirror_mode": {
    "name": "ipython",
    "version": 2
   },
   "file_extension": ".py",
   "mimetype": "text/x-python",
   "name": "python",
   "nbconvert_exporter": "python",
   "pygments_lexer": "ipython2",
   "version": "2.7.10"
  }
 },
 "nbformat": 4,
 "nbformat_minor": 0
}
